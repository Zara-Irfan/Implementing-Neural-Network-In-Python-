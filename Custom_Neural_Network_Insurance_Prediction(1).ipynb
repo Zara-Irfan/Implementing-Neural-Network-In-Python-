{
 "cells": [
  {
   "cell_type": "code",
   "execution_count": null,
   "id": "7eb59162-a4b6-4f54-a5eb-a16edee5467c",
   "metadata": {},
   "outputs": [],
   "source": [
    "# Gradient Descent for Neural Network (Logistic Regression)\n",
    "\n",
    "This notebook demonstrates predicting whether a person would buy life insurance based on their age and affordability.\n",
    "\n",
    "- Binary classification problem: 1 → buys insurance, 0 → does not buy.\n",
    "- Using TensorFlow 2.0, Keras, Python, and supporting libraries.\n",
    "- Includes gradient descent optimization and logistic regression."
   ]
  },
  {
   "cell_type": "code",
   "execution_count": 16,
   "id": "a8edcdf6-f34e-4622-9ca9-01aaf7b49935",
   "metadata": {},
   "outputs": [],
   "source": [
    "import numpy as np\n",
    "import pandas as pd\n",
    "from matplotlib import pyplot as plt\n",
    "from sklearn.model_selection import train_test_split\n",
    "from tensorflow.keras.models import Sequential\n",
    "from tensorflow.keras.layers import Dense\n",
    "from tensorflow.keras.optimizers import Adam\n",
    "from sklearn.metrics import log_loss\n",
    "%matplotlib inline"
   ]
  },
  {
   "cell_type": "code",
   "execution_count": null,
   "id": "f44e8a69-b444-4570-9a73-dba1b332241e",
   "metadata": {},
   "outputs": [],
   "source": [
    "## Dataset\n",
    "\n",
    "- Load the insurance dataset `insurance_data.csv`.\n",
    "- The dataset has columns: age, affordability, bought_insurance."
   ]
  },
  {
   "cell_type": "code",
   "execution_count": 7,
   "id": "249ab64b-57ca-4bf7-88e8-e9efe0c9854d",
   "metadata": {},
   "outputs": [
    {
     "data": {
      "text/html": [
       "<div>\n",
       "<style scoped>\n",
       "    .dataframe tbody tr th:only-of-type {\n",
       "        vertical-align: middle;\n",
       "    }\n",
       "\n",
       "    .dataframe tbody tr th {\n",
       "        vertical-align: top;\n",
       "    }\n",
       "\n",
       "    .dataframe thead th {\n",
       "        text-align: right;\n",
       "    }\n",
       "</style>\n",
       "<table border=\"1\" class=\"dataframe\">\n",
       "  <thead>\n",
       "    <tr style=\"text-align: right;\">\n",
       "      <th></th>\n",
       "      <th>age</th>\n",
       "      <th>affordibility</th>\n",
       "      <th>bought_insurance</th>\n",
       "    </tr>\n",
       "  </thead>\n",
       "  <tbody>\n",
       "    <tr>\n",
       "      <th>0</th>\n",
       "      <td>22</td>\n",
       "      <td>1</td>\n",
       "      <td>0</td>\n",
       "    </tr>\n",
       "    <tr>\n",
       "      <th>1</th>\n",
       "      <td>25</td>\n",
       "      <td>0</td>\n",
       "      <td>0</td>\n",
       "    </tr>\n",
       "    <tr>\n",
       "      <th>2</th>\n",
       "      <td>47</td>\n",
       "      <td>1</td>\n",
       "      <td>1</td>\n",
       "    </tr>\n",
       "    <tr>\n",
       "      <th>3</th>\n",
       "      <td>52</td>\n",
       "      <td>0</td>\n",
       "      <td>0</td>\n",
       "    </tr>\n",
       "    <tr>\n",
       "      <th>4</th>\n",
       "      <td>46</td>\n",
       "      <td>1</td>\n",
       "      <td>1</td>\n",
       "    </tr>\n",
       "  </tbody>\n",
       "</table>\n",
       "</div>"
      ],
      "text/plain": [
       "   age  affordibility  bought_insurance\n",
       "0   22              1                 0\n",
       "1   25              0                 0\n",
       "2   47              1                 1\n",
       "3   52              0                 0\n",
       "4   46              1                 1"
      ]
     },
     "execution_count": 7,
     "metadata": {},
     "output_type": "execute_result"
    }
   ],
   "source": [
    "df = pd.read_csv(\"/home/muhammad/Desktop/insurance_data.csv\")\n",
    "df.head()"
   ]
  },
  {
   "cell_type": "code",
   "execution_count": null,
   "id": "23705a3b-2e3f-438b-b2e4-8e6833a6008c",
   "metadata": {},
   "outputs": [],
   "source": [
    "## Data Preprocessing\n",
    "\n",
    "- Split dataset into features (`age`, `affordibility`) and target (`bought_insurance`).\n",
    "- Split into training and test sets.\n",
    "- Scale `age` feature for better model performance.\n",
    "- Use a small subset for training to avoid freezing in GitHub preview."
   ]
  },
  {
   "cell_type": "code",
   "execution_count": 8,
   "id": "d6a07d7b-0b2d-44e5-b171-d57acdf9e31a",
   "metadata": {},
   "outputs": [],
   "source": [
    "# Features and target\n",
    "X = df[['age', 'affordibility']]\n",
    "y = df['bought_insurance']\n",
    "\n",
    "# Train-test split\n",
    "X_train, X_test, y_train, y_test = train_test_split(X, y, test_size=0.2, random_state=25)\n",
    "\n",
    "# Scale age\n",
    "X_train_scaled = X_train.copy()\n",
    "X_train_scaled['age'] = X_train_scaled['age'] / 100\n",
    "\n",
    "X_test_scaled = X_test.copy()\n",
    "X_test_scaled['age'] = X_test_scaled['age'] / 100\n",
    "\n",
    "# Small subset for GitHub preview\n",
    "X_train_small = X_train_scaled[:20]\n",
    "y_train_small = y_train[:20]\n",
    "X_test_small = X_test_scaled[:10]\n",
    "y_test_small = y_test[:10]"
   ]
  },
  {
   "cell_type": "code",
   "execution_count": null,
   "id": "af650a8a-2791-4d9f-a8d4-30e052e245f6",
   "metadata": {},
   "outputs": [],
   "source": [
    "## Model Definition\n",
    "\n",
    "- Simple neural network (logistic regression) with one output neuron and sigmoid activation.\n",
    "- Compile with Adam optimizer and binary crossentropy loss."
   ]
  },
  {
   "cell_type": "code",
   "execution_count": 9,
   "id": "e73139bb-23b6-4d54-9cc0-2aeb3cfd5dd7",
   "metadata": {},
   "outputs": [
    {
     "name": "stderr",
     "output_type": "stream",
     "text": [
      "/home/muhammad/.local/lib/python3.10/site-packages/keras/src/layers/core/dense.py:87: UserWarning: Do not pass an `input_shape`/`input_dim` argument to a layer. When using Sequential models, prefer using an `Input(shape)` object as the first layer in the model instead.\n",
      "  super().__init__(activity_regularizer=activity_regularizer, **kwargs)\n"
     ]
    }
   ],
   "source": [
    "model = Sequential([\n",
    "    Dense(1, activation='sigmoid', input_shape=(2,))\n",
    "])\n",
    "\n",
    "model.compile(optimizer=Adam(learning_rate=0.01),\n",
    "              loss='binary_crossentropy',\n",
    "              metrics=['accuracy'])"
   ]
  },
  {
   "cell_type": "code",
   "execution_count": null,
   "id": "f9bafa4d-0848-473f-8c01-fd1a392b8859",
   "metadata": {},
   "outputs": [],
   "source": [
    "## Model Training\n",
    "\n",
    "- Train on a small subset to prevent freezing in GitHub preview.\n",
    "- Display training logs for few epochs."
   ]
  },
  {
   "cell_type": "code",
   "execution_count": 10,
   "id": "7fe658c8-89b3-4eff-b5dc-08525cc049ea",
   "metadata": {},
   "outputs": [
    {
     "name": "stdout",
     "output_type": "stream",
     "text": [
      "Epoch 1/5\n",
      "\u001b[1m5/5\u001b[0m \u001b[32m━━━━━━━━━━━━━━━━━━━━\u001b[0m\u001b[37m\u001b[0m \u001b[1m0s\u001b[0m 2ms/step - accuracy: 0.3833 - loss: 0.7974  \n",
      "Epoch 2/5\n",
      "\u001b[1m5/5\u001b[0m \u001b[32m━━━━━━━━━━━━━━━━━━━━\u001b[0m\u001b[37m\u001b[0m \u001b[1m0s\u001b[0m 1ms/step - accuracy: 0.2417 - loss: 0.7874     \n",
      "Epoch 3/5\n",
      "\u001b[1m5/5\u001b[0m \u001b[32m━━━━━━━━━━━━━━━━━━━━\u001b[0m\u001b[37m\u001b[0m \u001b[1m0s\u001b[0m 1ms/step - accuracy: 0.3806 - loss: 0.7279 \n",
      "Epoch 4/5\n",
      "\u001b[1m5/5\u001b[0m \u001b[32m━━━━━━━━━━━━━━━━━━━━\u001b[0m\u001b[37m\u001b[0m \u001b[1m0s\u001b[0m 1ms/step - accuracy: 0.3910 - loss: 0.7222 \n",
      "Epoch 5/5\n",
      "\u001b[1m5/5\u001b[0m \u001b[32m━━━━━━━━━━━━━━━━━━━━\u001b[0m\u001b[37m\u001b[0m \u001b[1m0s\u001b[0m 932us/step - accuracy: 0.3076 - loss: 0.7431\n"
     ]
    }
   ],
   "source": [
    "history = model.fit(\n",
    "    X_train_small, y_train_small,\n",
    "    epochs=5,\n",
    "    batch_size=4,\n",
    "    verbose=1\n",
    ")"
   ]
  },
  {
   "cell_type": "code",
   "execution_count": null,
   "id": "f817dcd0-6892-4666-9e18-d181e540682d",
   "metadata": {},
   "outputs": [],
   "source": [
    "## Model Predictions\n",
    "\n",
    "- Predict probabilities for the test subset.\n",
    "- Values closer to 1 → likely to buy insurance, closer to 0 → unlikely."
   ]
  },
  {
   "cell_type": "code",
   "execution_count": 11,
   "id": "93e934a0-5053-480b-81be-6088f9b45d65",
   "metadata": {},
   "outputs": [
    {
     "name": "stdout",
     "output_type": "stream",
     "text": [
      "\u001b[1m1/1\u001b[0m \u001b[32m━━━━━━━━━━━━━━━━━━━━\u001b[0m\u001b[37m\u001b[0m \u001b[1m0s\u001b[0m 27ms/step\n",
      "Predictions (small subset): [[0.47879872]\n",
      " [0.56682545]\n",
      " [0.44310936]\n",
      " [0.53666466]\n",
      " [0.4727137 ]\n",
      " [0.43643585]]\n",
      "Predicted Classes: [[0]\n",
      " [1]\n",
      " [0]\n",
      " [1]\n",
      " [0]\n",
      " [0]]\n"
     ]
    }
   ],
   "source": [
    "predictions = model.predict(X_test_small)\n",
    "print(\"Predictions (small subset):\", predictions)\n",
    "\n",
    "# Convert to class 0 or 1\n",
    "predicted_classes = (predictions > 0.5).astype(int)\n",
    "print(\"Predicted Classes:\", predicted_classes)"
   ]
  },
  {
   "cell_type": "code",
   "execution_count": null,
   "id": "c6ac9fff-b105-4615-b3d2-b9bb97b119ff",
   "metadata": {},
   "outputs": [],
   "source": [
    "## Training Metrics\n",
    "\n",
    "- Plot loss and accuracy to visualize training progress."
   ]
  },
  {
   "cell_type": "code",
   "execution_count": 12,
   "id": "976d594a-1c1f-4d0f-8b5d-5b7c47384e4c",
   "metadata": {},
   "outputs": [
    {
     "data": {
      "image/png": "[encoded data removed]",
      "text/plain": [
       "<Figure size 640x480 with 1 Axes>"
      ]
     },
     "metadata": {},
     "output_type": "display_data"
    }
   ],
   "source": [
    "plt.plot(history.history['loss'], label='Loss')\n",
    "plt.plot(history.history['accuracy'], label='Accuracy')\n",
    "plt.xlabel('Epochs')\n",
    "plt.ylabel('Value')\n",
    "plt.title('Training Loss and Accuracy')\n",
    "plt.legend()\n",
    "plt.show()"
   ]
  },
  {
   "cell_type": "code",
   "execution_count": 13,
   "id": "593a15e3-5cac-4e60-b516-88b28a561b54",
   "metadata": {},
   "outputs": [],
   "source": [
    "class MyNN:\n",
    "    def __init__(self):\n",
    "        self.w1 = 1.0\n",
    "        self.w2 = 1.0\n",
    "        self.bias = 0.0\n",
    "\n",
    "    def sigmoid_numpy(self, z):\n",
    "        \"\"\"Sigmoid activation function.\"\"\"\n",
    "        return 1 / (1 + np.exp(-z))\n",
    "\n",
    "    def fit(self, X, y, epochs=1500, loss_threshold=0.4631):\n",
    "        \"\"\"Train the model using gradient descent.\"\"\"\n",
    "        self.w1, self.w2, self.bias = self.gradient_descent(\n",
    "            X['age'], X['affordibility'], y, epochs, loss_threshold\n",
    "        )\n",
    "        print(f\"Final weights and bias: w1={self.w1:.4f}, w2={self.w2:.4f}, bias={self.bias:.4f}\")\n",
    "\n",
    "    def gradient_descent(self, age, affordability, y_true, epochs, loss_threshold):\n",
    "        \"\"\"Gradient descent algorithm to update weights and bias.\"\"\"\n",
    "        age = np.array(age)\n",
    "        affordability = np.array(affordability)\n",
    "        y_true = np.array(y_true)\n",
    "\n",
    "        w1, w2, bias = self.w1, self.w2, self.bias\n",
    "        rate = 0.5\n",
    "        n = len(age)\n",
    "\n",
    "        for i in range(epochs):\n",
    "            weighted_sum = w1 * age + w2 * affordability + bias\n",
    "            y_predicted = self.sigmoid_numpy(weighted_sum)\n",
    "            loss = log_loss(y_true, y_predicted)\n",
    "\n",
    "            w1d = (1/n) * np.dot(age.T, (y_predicted - y_true))\n",
    "            w2d = (1/n) * np.dot(affordability.T, (y_predicted - y_true))\n",
    "            bias_d = np.mean(y_predicted - y_true)\n",
    "\n",
    "            w1 -= rate * w1d\n",
    "            w2 -= rate * w2d\n",
    "            bias -= rate * bias_d\n",
    "\n",
    "            if i % 100 == 0:\n",
    "                print(f\"Epoch {i}, w1={w1:.4f}, w2={w2:.4f}, bias={bias:.4f}, loss={loss:.4f}\")\n",
    "\n",
    "            if loss <= loss_threshold:\n",
    "                print(f\"Stopping early at epoch {i}, loss={loss:.4f}\")\n",
    "                break\n",
    "\n",
    "        return w1, w2, bias\n",
    "\n",
    "    def predict(self, age, affordability):\n",
    "        \"\"\"Predict probability for a single sample.\"\"\"\n",
    "        weighted_sum = self.w1 * age + self.w2 * affordability + self.bias\n",
    "        return self.sigmoid_numpy(weighted_sum)\n",
    "\n",
    "    def predict_batch(self, X):\n",
    "        \"\"\"Predict probabilities for a DataFrame.\"\"\"\n",
    "        weighted_sum = self.w1 * X['age'] + self.w2 * X['affordibility'] + self.bias\n",
    "        return self.sigmoid_numpy(weighted_sum)"
   ]
  },
  {
   "cell_type": "code",
   "execution_count": 14,
   "id": "7d6f1d13-b05a-44e7-a93e-aa33ef1dc200",
   "metadata": {},
   "outputs": [],
   "source": [
    "# Limit dataset to first 4000 samples\n",
    "df_small = df.iloc[:4000]\n",
    "\n",
    "# Split features and target\n",
    "X = df_small[['age', 'affordibility']]\n",
    "y = df_small['bought_insurance']\n",
    "\n",
    "# Scale features\n",
    "X_scaled = X.copy()\n",
    "X_scaled['age'] = X_scaled['age'] / 100\n",
    "X_scaled['affordibility'] = X_scaled['affordibility'] / X_scaled['affordibility'].max()\n",
    "\n",
    "# Split train/test\n",
    "from sklearn.model_selection import train_test_split\n",
    "X_train_scaled, X_test_scaled, y_train, y_test = train_test_split(\n",
    "    X_scaled, y, test_size=0.2, random_state=25\n",
    ")"
   ]
  },
  {
   "cell_type": "code",
   "execution_count": null,
   "id": "672e7b54-fe35-4305-a876-6d2823917b25",
   "metadata": {},
   "outputs": [],
   "source": [
    "## Custom Neural Network Class\n",
    "\n",
    "- `MyNN` class defines a simple neural network with two input features.\n",
    "- Uses **sigmoid activation** function.\n",
    "- Implements **gradient descent** manually to update weights and bias.\n",
    "- Supports:\n",
    "  - Training via `.fit()`\n",
    "  - Predicting single samples via `.predict()`\n",
    "  - Predicting batches of samples via `.predict_batch()`"
   ]
  },
  {
   "cell_type": "code",
   "execution_count": 17,
   "id": "d1f0f8e1-de35-49c6-97d0-6fd2b0083e8e",
   "metadata": {},
   "outputs": [
    {
     "name": "stdout",
     "output_type": "stream",
     "text": [
      "Epoch 0, w1=0.9749, w2=0.9483, bias=-0.1134, loss=0.7113\n",
      "Epoch 100, w1=2.2007, w2=1.2942, bias=-1.6607, loss=0.5391\n",
      "Epoch 200, w1=3.4430, w2=1.4042, bias=-2.2571, loss=0.5005\n",
      "Epoch 300, w1=4.4722, w2=1.4388, bias=-2.7074, loss=0.4751\n",
      "Stopping early at epoch 366, loss=0.4629\n",
      "Final weights and bias: w1=5.0510, w2=1.4570, bias=-2.9597\n"
     ]
    }
   ],
   "source": [
    "# Create and train model\n",
    "customModel = MyNN()\n",
    "customModel.fit(X_train_scaled, y_train, epochs=1500, loss_threshold=0.4631)"
   ]
  },
  {
   "cell_type": "code",
   "execution_count": 19,
   "id": "feb0a77b-a600-420f-b18c-7bdf31d760ad",
   "metadata": {},
   "outputs": [
    {
     "name": "stdout",
     "output_type": "stream",
     "text": [
      "Single prediction: 0.7050199520774729\n",
      "First 5 predictions: 2     0.705020\n",
      "10    0.355836\n",
      "21    0.161599\n",
      "11    0.477919\n",
      "14    0.725586\n",
      "dtype: float64\n"
     ]
    }
   ],
   "source": [
    "# Single prediction example\n",
    "single_pred = customModel.predict(0.47, 1)\n",
    "print(\"Single prediction:\", single_pred)\n",
    "\n",
    "# Batch prediction on test set\n",
    "batch_preds = customModel.predict_batch(X_test_scaled)\n",
    "print(\"First 5 predictions:\", batch_preds[:5])\n"
   ]
  },
  {
   "cell_type": "code",
   "execution_count": 20,
   "id": "ec901a59-c91f-4f74-b5f3-00f8753fcf6c",
   "metadata": {},
   "outputs": [
    {
     "name": "stdout",
     "output_type": "stream",
     "text": [
      "Weights (coef): 5.051047623653049 1.4569794548473887\n",
      "Bias (intercept): -2.959653454625004\n"
     ]
    }
   ],
   "source": [
    "print(\"Weights (coef):\", customModel.w1, customModel.w2)\n",
    "print(\"Bias (intercept):\", customModel.bias)\n"
   ]
  },
  {
   "cell_type": "code",
   "execution_count": null,
   "id": "64d66941-4f81-4340-ab82-1dfff5da910b",
   "metadata": {},
   "outputs": [],
   "source": []
  }
 ],
 "metadata": {
  "kernelspec": {
   "display_name": "Python 3 (ipykernel)",
   "language": "python",
   "name": "python3"
  },
  "language_info": {
   "codemirror_mode": {
    "name": "ipython",
    "version": 3
   },
   "file_extension": ".py",
   "mimetype": "text/x-python",
   "name": "python",
   "nbconvert_exporter": "python",
   "pygments_lexer": "ipython3",
   "version": "3.10.12"
  }
 },
 "nbformat": 4,
 "nbformat_minor": 5
}
